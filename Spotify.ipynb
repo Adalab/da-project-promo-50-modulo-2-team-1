{
 "cells": [
  {
   "cell_type": "code",
   "execution_count": 88,
   "id": "56281802",
   "metadata": {},
   "outputs": [
    {
     "name": "stdout",
     "output_type": "stream",
     "text": [
      "Requirement already satisfied: spotipy in c:\\users\\maria\\anaconda3\\lib\\site-packages (2.25.1)\n",
      "Requirement already satisfied: redis>=3.5.3 in c:\\users\\maria\\anaconda3\\lib\\site-packages (from spotipy) (5.2.1)\n",
      "Requirement already satisfied: requests>=2.25.0 in c:\\users\\maria\\anaconda3\\lib\\site-packages (from spotipy) (2.32.3)\n",
      "Requirement already satisfied: urllib3>=1.26.0 in c:\\users\\maria\\anaconda3\\lib\\site-packages (from spotipy) (2.2.3)\n",
      "Requirement already satisfied: charset-normalizer<4,>=2 in c:\\users\\maria\\anaconda3\\lib\\site-packages (from requests>=2.25.0->spotipy) (3.3.2)\n",
      "Requirement already satisfied: idna<4,>=2.5 in c:\\users\\maria\\anaconda3\\lib\\site-packages (from requests>=2.25.0->spotipy) (3.7)\n",
      "Requirement already satisfied: certifi>=2017.4.17 in c:\\users\\maria\\anaconda3\\lib\\site-packages (from requests>=2.25.0->spotipy) (2025.1.31)\n"
     ]
    }
   ],
   "source": [
    "!pip install spotipy"
   ]
  },
  {
   "cell_type": "code",
   "execution_count": 89,
   "id": "34277994",
   "metadata": {},
   "outputs": [],
   "source": [
    "import json"
   ]
  },
  {
   "cell_type": "code",
   "execution_count": 90,
   "id": "7b411109",
   "metadata": {},
   "outputs": [],
   "source": [
    "import spotipy"
   ]
  },
  {
   "cell_type": "code",
   "execution_count": 91,
   "id": "cf0e5467",
   "metadata": {},
   "outputs": [],
   "source": [
    "from spotipy.oauth2 import SpotifyClientCredentials"
   ]
  },
  {
   "cell_type": "code",
   "execution_count": 92,
   "id": "39e3a016",
   "metadata": {},
   "outputs": [],
   "source": [
    "CLIENT_ID = '52a14af4170949f5abd0a6fe5315c769'\n",
    "CLIENT_SECRET = 'e6538dd490924858a141b61f021d5dce'\n",
    "\n",
    "auth_manager = SpotifyClientCredentials(client_id=CLIENT_ID, client_secret=CLIENT_SECRET)\n",
    "sp = spotipy.Spotify(auth_manager=auth_manager)"
   ]
  },
  {
   "cell_type": "markdown",
   "id": "8c89c4d2",
   "metadata": {},
   "source": [
    "Función para generar token pasada 1h"
   ]
  },
  {
   "cell_type": "code",
   "execution_count": 159,
   "id": "f180743a",
   "metadata": {},
   "outputs": [
    {
     "name": "stdout",
     "output_type": "stream",
     "text": [
      "Token de acceso: BQBeBQoIxsWiAcOlnxRfxb1EyNFcXPDX5Uz1PYkbgppIS2Go4AycZuOXMgwizUMZWnGc_kZps51CmQ8XNFFP4htZqxBoVEZ24OAGIGjaqF4-0jC4ztFTOZZnK-GJaqYA2ak68DrgCDc\n"
     ]
    }
   ],
   "source": [
    "import requests\n",
    "from requests.auth import HTTPBasicAuth\n",
    "client_id = CLIENT_ID\n",
    "client_secret = CLIENT_SECRET\n",
    "url = \"https://accounts.spotify.com/api/token\"\n",
    "data = {\n",
    "    \"grant_type\": \"client_credentials\"\n",
    "}\n",
    "def token_api(url):\n",
    "    response = requests.post(url, data=data, auth=HTTPBasicAuth(client_id, client_secret))\n",
    "    if response.status_code == 200:\n",
    "        token = response.json()[\"access_token\"]\n",
    "        print(\"Token de acceso:\", token)\n",
    "    else:\n",
    "        print(\"Error:\", response.status_code)\n",
    "        print(response.text)\n",
    "token_api(url)"
   ]
  },
  {
   "cell_type": "markdown",
   "id": "e22f9943",
   "metadata": {},
   "source": [
    "Sacar canciones de 2019 a 2024 categorías rock, pop, reggeton, hip hop, jazz"
   ]
  },
  {
   "cell_type": "code",
   "execution_count": null,
   "id": "9e72be98",
   "metadata": {},
   "outputs": [],
   "source": [
    "def tracks_genre (sp, genre, offset=0, limit=50):\n",
    "    query = f\"genre:{genre} year:2019-2024\" \n",
    "    data = sp.search(q= query, type='track', limit=50, offset=0)  # cuántas páginas cogemos?\n",
    "    tracks_genre = []\n",
    "    for item in data['tracks']['items']:\n",
    "        tracks_genre.append({\n",
    "                'name_track': item['name'],\n",
    "                'name_artist': item['artists'][0]['name'],\n",
    "                'genre': \"rock\", #no lo devuelve, lo tengo que poner según el género que esté buscando\n",
    "                'type': item['type'], \n",
    "                'year': item['album']['release_date'][:4] })\n",
    "\n",
    "    return tracks_genre\n",
    "\n",
    "tracks_rock_1= tracks_genre (sp, 'rock', offset=1, limit=50)\n",
    "\n",
    "with open(\"tracks_rock_1.json\",\"w\") as archivo:\n",
    "   json.dump(tracks_rock_1, archivo)"
   ]
  },
  {
   "cell_type": "code",
   "execution_count": null,
   "id": "8904659a",
   "metadata": {},
   "outputs": [],
   "source": [
    "with open(\"tracks_rock_1.json\",\"w\") as archivo:\n",
    "   json.dump(tracks_rock_1, archivo)"
   ]
  },
  {
   "cell_type": "code",
   "execution_count": 177,
   "id": "433c2a73",
   "metadata": {},
   "outputs": [],
   "source": [
    "data_album = sp.search(q='genre:rock year:2019-2024', type='track,album', limit=50, offset=0)\n",
    "data_album\n",
    "with open(\"data_album.json\",\"w\") as archivo:\n",
    "   json.dump(data_album, archivo)"
   ]
  },
  {
   "cell_type": "code",
   "execution_count": null,
   "id": "8e1b1f93",
   "metadata": {},
   "outputs": [],
   "source": []
  }
 ],
 "metadata": {
  "kernelspec": {
   "display_name": "base",
   "language": "python",
   "name": "python3"
  },
  "language_info": {
   "codemirror_mode": {
    "name": "ipython",
    "version": 3
   },
   "file_extension": ".py",
   "mimetype": "text/x-python",
   "name": "python",
   "nbconvert_exporter": "python",
   "pygments_lexer": "ipython3",
   "version": "3.12.7"
  }
 },
 "nbformat": 4,
 "nbformat_minor": 5
}
